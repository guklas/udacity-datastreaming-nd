{
 "cells": [
  {
   "cell_type": "code",
   "execution_count": 2,
   "metadata": {
    "editable": true
   },
   "outputs": [],
   "source": [
    "import pandas as pd"
   ]
  },
  {
   "cell_type": "code",
   "execution_count": 3,
   "metadata": {
    "editable": true
   },
   "outputs": [
    {
     "data": {
      "text/html": [
       "<div>\n",
       "<style scoped>\n",
       "    .dataframe tbody tr th:only-of-type {\n",
       "        vertical-align: middle;\n",
       "    }\n",
       "\n",
       "    .dataframe tbody tr th {\n",
       "        vertical-align: top;\n",
       "    }\n",
       "\n",
       "    .dataframe thead th {\n",
       "        text-align: right;\n",
       "    }\n",
       "</style>\n",
       "<table border=\"1\" class=\"dataframe\">\n",
       "  <thead>\n",
       "    <tr style=\"text-align: right;\">\n",
       "      <th></th>\n",
       "      <th>address</th>\n",
       "      <th>address_type</th>\n",
       "      <th>agency_id</th>\n",
       "      <th>call_date</th>\n",
       "      <th>call_date_time</th>\n",
       "      <th>call_time</th>\n",
       "      <th>city</th>\n",
       "      <th>common_location</th>\n",
       "      <th>crime_id</th>\n",
       "      <th>disposition</th>\n",
       "      <th>offense_date</th>\n",
       "      <th>original_crime_type_name</th>\n",
       "      <th>report_date</th>\n",
       "      <th>state</th>\n",
       "    </tr>\n",
       "  </thead>\n",
       "  <tbody>\n",
       "    <tr>\n",
       "      <th>0</th>\n",
       "      <td>Geary Bl/divisadero St</td>\n",
       "      <td>Intersection</td>\n",
       "      <td>1</td>\n",
       "      <td>2018-12-31T00:00:00.000</td>\n",
       "      <td>2018-12-31 23:57:00</td>\n",
       "      <td>2021-02-21 23:57:00</td>\n",
       "      <td>San Francisco</td>\n",
       "      <td></td>\n",
       "      <td>183653763</td>\n",
       "      <td>ADM</td>\n",
       "      <td>2018-12-31T00:00:00.000</td>\n",
       "      <td>Traffic Stop</td>\n",
       "      <td>2018-12-31T00:00:00.000</td>\n",
       "      <td>CA</td>\n",
       "    </tr>\n",
       "    <tr>\n",
       "      <th>1</th>\n",
       "      <td>100 Blk Howard St</td>\n",
       "      <td>Geo-Override</td>\n",
       "      <td>1</td>\n",
       "      <td>2018-12-31T00:00:00.000</td>\n",
       "      <td>2018-12-31 23:54:00</td>\n",
       "      <td>2021-02-21 23:54:00</td>\n",
       "      <td>San Francisco</td>\n",
       "      <td></td>\n",
       "      <td>183653756</td>\n",
       "      <td>CIT</td>\n",
       "      <td>2018-12-31T00:00:00.000</td>\n",
       "      <td>Traf Violation Cite</td>\n",
       "      <td>2018-12-31T00:00:00.000</td>\n",
       "      <td>CA</td>\n",
       "    </tr>\n",
       "    <tr>\n",
       "      <th>2</th>\n",
       "      <td>3300 Block Of 20th Av</td>\n",
       "      <td>Common Location</td>\n",
       "      <td>1</td>\n",
       "      <td>2018-12-31T00:00:00.000</td>\n",
       "      <td>2018-12-31 23:49:00</td>\n",
       "      <td>2021-02-21 23:49:00</td>\n",
       "      <td>San Francisco</td>\n",
       "      <td>Stonestown Galleria, Sf</td>\n",
       "      <td>183653746</td>\n",
       "      <td>HAN</td>\n",
       "      <td>2018-12-31T00:00:00.000</td>\n",
       "      <td>Passing Call</td>\n",
       "      <td>2018-12-31T00:00:00.000</td>\n",
       "      <td>CA</td>\n",
       "    </tr>\n",
       "    <tr>\n",
       "      <th>3</th>\n",
       "      <td>1900 Block Of 18th Av</td>\n",
       "      <td>Premise Address</td>\n",
       "      <td>1</td>\n",
       "      <td>2018-12-31T00:00:00.000</td>\n",
       "      <td>2018-12-31 23:47:00</td>\n",
       "      <td>2021-02-21 23:47:00</td>\n",
       "      <td>San Francisco</td>\n",
       "      <td></td>\n",
       "      <td>183653745</td>\n",
       "      <td>PAS</td>\n",
       "      <td>2018-12-31T00:00:00.000</td>\n",
       "      <td>Audible Alarm</td>\n",
       "      <td>2018-12-31T00:00:00.000</td>\n",
       "      <td>CA</td>\n",
       "    </tr>\n",
       "    <tr>\n",
       "      <th>4</th>\n",
       "      <td>Sansome St/chestnut St</td>\n",
       "      <td>Intersection</td>\n",
       "      <td>1</td>\n",
       "      <td>2018-12-31T00:00:00.000</td>\n",
       "      <td>2018-12-31 23:46:00</td>\n",
       "      <td>2021-02-21 23:46:00</td>\n",
       "      <td>San Francisco</td>\n",
       "      <td></td>\n",
       "      <td>183653737</td>\n",
       "      <td>CIT</td>\n",
       "      <td>2018-12-31T00:00:00.000</td>\n",
       "      <td>Traffic Stop</td>\n",
       "      <td>2018-12-31T00:00:00.000</td>\n",
       "      <td>CA</td>\n",
       "    </tr>\n",
       "  </tbody>\n",
       "</table>\n",
       "</div>"
      ],
      "text/plain": [
       "                  address     address_type  agency_id  \\\n",
       "0  Geary Bl/divisadero St     Intersection          1   \n",
       "1       100 Blk Howard St     Geo-Override          1   \n",
       "2   3300 Block Of 20th Av  Common Location          1   \n",
       "3   1900 Block Of 18th Av  Premise Address          1   \n",
       "4  Sansome St/chestnut St     Intersection          1   \n",
       "\n",
       "                 call_date      call_date_time           call_time  \\\n",
       "0  2018-12-31T00:00:00.000 2018-12-31 23:57:00 2021-02-21 23:57:00   \n",
       "1  2018-12-31T00:00:00.000 2018-12-31 23:54:00 2021-02-21 23:54:00   \n",
       "2  2018-12-31T00:00:00.000 2018-12-31 23:49:00 2021-02-21 23:49:00   \n",
       "3  2018-12-31T00:00:00.000 2018-12-31 23:47:00 2021-02-21 23:47:00   \n",
       "4  2018-12-31T00:00:00.000 2018-12-31 23:46:00 2021-02-21 23:46:00   \n",
       "\n",
       "            city          common_location   crime_id disposition  \\\n",
       "0  San Francisco                           183653763         ADM   \n",
       "1  San Francisco                           183653756         CIT   \n",
       "2  San Francisco  Stonestown Galleria, Sf  183653746         HAN   \n",
       "3  San Francisco                           183653745         PAS   \n",
       "4  San Francisco                           183653737         CIT   \n",
       "\n",
       "              offense_date original_crime_type_name              report_date  \\\n",
       "0  2018-12-31T00:00:00.000             Traffic Stop  2018-12-31T00:00:00.000   \n",
       "1  2018-12-31T00:00:00.000      Traf Violation Cite  2018-12-31T00:00:00.000   \n",
       "2  2018-12-31T00:00:00.000             Passing Call  2018-12-31T00:00:00.000   \n",
       "3  2018-12-31T00:00:00.000            Audible Alarm  2018-12-31T00:00:00.000   \n",
       "4  2018-12-31T00:00:00.000             Traffic Stop  2018-12-31T00:00:00.000   \n",
       "\n",
       "  state  \n",
       "0    CA  \n",
       "1    CA  \n",
       "2    CA  \n",
       "3    CA  \n",
       "4    CA  "
      ]
     },
     "execution_count": 3,
     "metadata": {},
     "output_type": "execute_result"
    }
   ],
   "source": [
    "police_df = pd.read_json('police-department-calls-for-service.json')\n",
    "police_df.head()"
   ]
  },
  {
   "cell_type": "code",
   "execution_count": 4,
   "metadata": {
    "editable": true
   },
   "outputs": [
    {
     "data": {
      "text/plain": [
       "address                     199999\n",
       "address_type                199999\n",
       "agency_id                   199999\n",
       "call_date                   199999\n",
       "call_date_time              199999\n",
       "call_time                   199999\n",
       "city                        199999\n",
       "common_location             199999\n",
       "crime_id                    199999\n",
       "disposition                 199999\n",
       "offense_date                199999\n",
       "original_crime_type_name    199999\n",
       "report_date                 199999\n",
       "state                       199999\n",
       "dtype: int64"
      ]
     },
     "execution_count": 4,
     "metadata": {},
     "output_type": "execute_result"
    }
   ],
   "source": [
    "police_df.count()"
   ]
  },
  {
   "cell_type": "code",
   "execution_count": 5,
   "metadata": {
    "editable": true
   },
   "outputs": [
    {
     "name": "stdout",
     "output_type": "stream",
     "text": [
      "2018-10-02T00:00:00.000\n",
      "2018-12-31T00:00:00.000\n"
     ]
    }
   ],
   "source": [
    "s = police_df.call_date\n",
    "print( s.min() )\n",
    "print( s.max() )"
   ]
  },
  {
   "cell_type": "code",
   "execution_count": 6,
   "metadata": {
    "editable": true
   },
   "outputs": [
    {
     "name": "stdout",
     "output_type": "stream",
     "text": [
      "         Unique crime type\n",
      "0             Traffic Stop\n",
      "1      Traf Violation Cite\n",
      "2             Passing Call\n",
      "3            Audible Alarm\n",
      "4          Fight No Weapon\n",
      "5                      Att\n",
      "6       Auto Boost / Strip\n",
      "7       Suspicious Vehicle\n",
      "8        Assault / Battery\n",
      "9             Drunk Driver\n",
      "10                    Poss\n",
      "11       Strongarm Robbery\n",
      "12       Suspicious Person\n",
      "13          Noise Nuisance\n",
      "14     H&r Injury Accident\n",
      "15                    Fire\n",
      "16      Traf Violation Tow\n",
      "17               Fireworks\n",
      "18                      Jo\n",
      "19                   Party\n",
      "20      Intoxicated Person\n",
      "21                     518\n",
      "22                    Vict\n",
      "23                     601\n",
      "24            Person W/gun\n",
      "25                  22500e\n",
      "26                  22500f\n",
      "27        Well Being Check\n",
      "28            Veh Accident\n",
      "29          Meet W/officer\n",
      "...                    ...\n",
      "3388             Found Gun\n",
      "3389                Sister\n",
      "3390         Selling Crack\n",
      "3391         Smoking Crack\n",
      "3392           Vin Covered\n",
      "3393         Poss/walkthru\n",
      "3394  Family/r/o Violation\n",
      "3395                 Poss7\n",
      "3396                Ug/601\n",
      "3397               W911 Hu\n",
      "3398             Dog/909**\n",
      "3399            Live Video\n",
      "3400             Ip / Poss\n",
      "3401                  6010\n",
      "3402                Drugs/\n",
      "3403           Att/852/594\n",
      "3404              Ip / 418\n",
      "3405              Crossbow\n",
      "3406             Drugs 919\n",
      "3407      W/stick/poss 207\n",
      "3408                   Rtn\n",
      "3409           Att Poss Jo\n",
      "3410           Footage/rep\n",
      "3411      Surveillance/909\n",
      "3412               415/915\n",
      "3413         Stay Away/488\n",
      "3414    Reckless Road Rage\n",
      "3415        Drugs Drinking\n",
      "3416                  Bras\n",
      "3417          601 647b Rtl\n",
      "\n",
      "[3418 rows x 1 columns]\n",
      "Number of unique crime types reported :  3418\n"
     ]
    }
   ],
   "source": [
    "a = police_df.original_crime_type_name.unique()\n",
    "df1  = pd.DataFrame(a, columns = ['Unique crime type'])\n",
    "print(df1)\n",
    "print('Number of unique crime types reported : ', len(df1))\n"
   ]
  },
  {
   "cell_type": "code",
   "execution_count": 11,
   "metadata": {
    "editable": true
   },
   "outputs": [
    {
     "name": "stdout",
     "output_type": "stream",
     "text": [
      "  Unique crime type\n",
      "0      Intersection\n",
      "1      Geo-Override\n",
      "2   Common Location\n",
      "3   Premise Address\n",
      "Number of unique address types reported :  4\n"
     ]
    }
   ],
   "source": [
    "a1 = police_df.address_type.unique()\n",
    "df2  = pd.DataFrame(a1, columns = ['Unique crime type'])\n",
    "print(df2)\n",
    "print('Number of unique address types reported : ', len(df2))"
   ]
  },
  {
   "cell_type": "code",
   "execution_count": 8,
   "metadata": {
    "editable": true
   },
   "outputs": [
    {
     "data": {
      "text/plain": [
       "Passing Call            35180\n",
       "Traffic Stop            13538\n",
       "Traf Violation Cite     10921\n",
       "Suspicious Person       10007\n",
       "Homeless Complaint       6072\n",
       "Trespasser               5840\n",
       "Audible Alarm            5775\n",
       "22500e                   5651\n",
       "Well Being Check         5552\n",
       "Muni Inspection          5509\n",
       "Suspicious Vehicle       5031\n",
       "Fight No Weapon          4199\n",
       "Noise Nuisance           4072\n",
       "Auto Boost / Strip       2969\n",
       "Traf Violation Tow       2915\n",
       "Poss                     2851\n",
       "Mentally Disturbed       2585\n",
       "Petty Theft              2549\n",
       "Meet W/citizen           2414\n",
       "Assault / Battery        2356\n",
       "Drugs                    2003\n",
       "601                      1837\n",
       "Complaint Unkn           1676\n",
       "500e                     1519\n",
       "Burglary                 1423\n",
       "Stolen Vehicle           1408\n",
       "Threats / Harassment     1380\n",
       "22500f                   1345\n",
       "Vandalism                1337\n",
       "Rep                      1213\n",
       "                        ...  \n",
       "488 Plot                    1\n",
       "Od Poss                     1\n",
       "W/ 222                      1\n",
       "Open Static Line            1\n",
       "Eggs                        1\n",
       "Suicide                     1\n",
       "Female                      1\n",
       "Poss Gun                    1\n",
       "221/rep                     1\n",
       "2 Awol Juv's                1\n",
       "7..2.28                     1\n",
       "Male In The Street          1\n",
       "Poss/ 916                   1\n",
       "Moving Veh                  1\n",
       "Rep/survellience            1\n",
       "500h/7.2.34                 1\n",
       "Loud Drummer                1\n",
       "Ga                          1\n",
       "Verbal/poss                 1\n",
       "Bras                        1\n",
       "409tow Truck                1\n",
       "Reckledd                    1\n",
       "22500e/22500f               1\n",
       "7,2,88                      1\n",
       "909/400                     1\n",
       "Aggressive Spitter          1\n",
       "7.2.41/7.2.32               1\n",
       "221 Bc Bolo                 1\n",
       "919 917                     1\n",
       "Under The Influence         1\n",
       "Name: original_crime_type_name, Length: 3418, dtype: int64"
      ]
     },
     "execution_count": 8,
     "metadata": {},
     "output_type": "execute_result"
    }
   ],
   "source": [
    "police_df[\"original_crime_type_name\"].value_counts()"
   ]
  },
  {
   "cell_type": "code",
   "execution_count": 9,
   "metadata": {
    "editable": true
   },
   "outputs": [
    {
     "data": {
      "text/html": [
       "<div>\n",
       "<style scoped>\n",
       "    .dataframe tbody tr th:only-of-type {\n",
       "        vertical-align: middle;\n",
       "    }\n",
       "\n",
       "    .dataframe tbody tr th {\n",
       "        vertical-align: top;\n",
       "    }\n",
       "\n",
       "    .dataframe thead th {\n",
       "        text-align: right;\n",
       "    }\n",
       "</style>\n",
       "<table border=\"1\" class=\"dataframe\">\n",
       "  <thead>\n",
       "    <tr style=\"text-align: right;\">\n",
       "      <th></th>\n",
       "      <th>description</th>\n",
       "      <th>disposition_code</th>\n",
       "    </tr>\n",
       "  </thead>\n",
       "  <tbody>\n",
       "    <tr>\n",
       "      <th>0</th>\n",
       "      <td>Abated</td>\n",
       "      <td>ABA</td>\n",
       "    </tr>\n",
       "    <tr>\n",
       "      <th>1</th>\n",
       "      <td>Admonished</td>\n",
       "      <td>ADM</td>\n",
       "    </tr>\n",
       "    <tr>\n",
       "      <th>2</th>\n",
       "      <td>Advised</td>\n",
       "      <td>ADV</td>\n",
       "    </tr>\n",
       "    <tr>\n",
       "      <th>3</th>\n",
       "      <td>Arrest</td>\n",
       "      <td>ARR</td>\n",
       "    </tr>\n",
       "    <tr>\n",
       "      <th>4</th>\n",
       "      <td>Cancel</td>\n",
       "      <td>CAN</td>\n",
       "    </tr>\n",
       "    <tr>\n",
       "      <th>5</th>\n",
       "      <td>CPSA assignment</td>\n",
       "      <td>CSA</td>\n",
       "    </tr>\n",
       "    <tr>\n",
       "      <th>6</th>\n",
       "      <td>Cancel</td>\n",
       "      <td>22</td>\n",
       "    </tr>\n",
       "    <tr>\n",
       "      <th>7</th>\n",
       "      <td>Cited</td>\n",
       "      <td>CIT</td>\n",
       "    </tr>\n",
       "    <tr>\n",
       "      <th>8</th>\n",
       "      <td>Criminal Activation</td>\n",
       "      <td>CRM</td>\n",
       "    </tr>\n",
       "    <tr>\n",
       "      <th>9</th>\n",
       "      <td>Gone on Arrival</td>\n",
       "      <td>GOA</td>\n",
       "    </tr>\n",
       "    <tr>\n",
       "      <th>10</th>\n",
       "      <td>Handled</td>\n",
       "      <td>HAN</td>\n",
       "    </tr>\n",
       "    <tr>\n",
       "      <th>11</th>\n",
       "      <td>Non-Criminal</td>\n",
       "      <td>NCR</td>\n",
       "    </tr>\n",
       "    <tr>\n",
       "      <th>12</th>\n",
       "      <td>No Disposition</td>\n",
       "      <td>ND</td>\n",
       "    </tr>\n",
       "    <tr>\n",
       "      <th>13</th>\n",
       "      <td>No Merit</td>\n",
       "      <td>NOM</td>\n",
       "    </tr>\n",
       "    <tr>\n",
       "      <th>14</th>\n",
       "      <td>Premises Appears Secure</td>\n",
       "      <td>PAS</td>\n",
       "    </tr>\n",
       "    <tr>\n",
       "      <th>15</th>\n",
       "      <td>Report</td>\n",
       "      <td>REP</td>\n",
       "    </tr>\n",
       "    <tr>\n",
       "      <th>16</th>\n",
       "      <td>SFFD Medical Staff Engaged</td>\n",
       "      <td>SFD</td>\n",
       "    </tr>\n",
       "    <tr>\n",
       "      <th>17</th>\n",
       "      <td>Unable to Locate</td>\n",
       "      <td>UTL</td>\n",
       "    </tr>\n",
       "    <tr>\n",
       "      <th>18</th>\n",
       "      <td>Vehicle Appears Secure</td>\n",
       "      <td>VAS</td>\n",
       "    </tr>\n",
       "  </tbody>\n",
       "</table>\n",
       "</div>"
      ],
      "text/plain": [
       "                   description disposition_code\n",
       "0                       Abated              ABA\n",
       "1                   Admonished              ADM\n",
       "2                      Advised              ADV\n",
       "3                       Arrest              ARR\n",
       "4                       Cancel              CAN\n",
       "5              CPSA assignment              CSA\n",
       "6                       Cancel               22\n",
       "7                        Cited              CIT\n",
       "8          Criminal Activation              CRM\n",
       "9              Gone on Arrival              GOA\n",
       "10                     Handled              HAN\n",
       "11                Non-Criminal              NCR\n",
       "12              No Disposition               ND\n",
       "13                    No Merit              NOM\n",
       "14     Premises Appears Secure              PAS\n",
       "15                      Report              REP\n",
       "16  SFFD Medical Staff Engaged              SFD\n",
       "17            Unable to Locate              UTL\n",
       "18      Vehicle Appears Secure              VAS"
      ]
     },
     "execution_count": 9,
     "metadata": {},
     "output_type": "execute_result"
    }
   ],
   "source": [
    "radio_df = pd.read_json('radio_code.json')\n",
    "radio_df.head(100)"
   ]
  },
  {
   "cell_type": "code",
   "execution_count": null,
   "metadata": {
    "editable": true
   },
   "outputs": [],
   "source": []
  },
  {
   "cell_type": "code",
   "execution_count": 10,
   "metadata": {
    "editable": true
   },
   "outputs": [
    {
     "data": {
      "text/plain": [
       "description         19\n",
       "disposition_code    19\n",
       "dtype: int64"
      ]
     },
     "execution_count": 10,
     "metadata": {},
     "output_type": "execute_result"
    }
   ],
   "source": [
    "radio_df.count()"
   ]
  },
  {
   "cell_type": "code",
   "execution_count": null,
   "metadata": {
    "editable": true
   },
   "outputs": [],
   "source": []
  }
 ],
 "metadata": {
  "kernelspec": {
   "display_name": "Python 3",
   "language": "python",
   "name": "python3"
  },
  "language_info": {
   "codemirror_mode": {
    "name": "ipython",
    "version": 3
   },
   "file_extension": ".py",
   "mimetype": "text/x-python",
   "name": "python",
   "nbconvert_exporter": "python",
   "pygments_lexer": "ipython3",
   "version": "3.7.3"
  }
 },
 "nbformat": 4,
 "nbformat_minor": 4
}
